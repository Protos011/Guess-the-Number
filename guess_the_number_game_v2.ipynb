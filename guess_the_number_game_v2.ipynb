{
 "cells": [
  {
   "cell_type": "markdown",
   "id": "4a0403d7-f617-4a32-b4ee-a1ecf484177b",
   "metadata": {},
   "source": [
    "# ===== Guess The Number Game ====="
   ]
  },
  {
   "cell_type": "markdown",
   "id": "93b8d827-def9-4ec2-8947-391499f02d57",
   "metadata": {},
   "source": [
    "## Guess the Number 🎮 (Single Player)\n",
    "\n",
    "This is a simple Python game where the computer randomly picks a secret number within a chosen range.  \n",
    "Your goal is to guess the number within a limited number of attempts.\n",
    "\n",
    "- The game tells you if your guess is **too high** or **too low**.  \n",
    "- You only have a fixed number of attempts to get it right.  \n",
    "- If you guess correctly, you win 🎉. Otherwise, the game reveals the secret number at the end.  \n",
    "\n",
    "It’s a fun beginner-friendly project that introduces:\n",
    "- User input handling  \n",
    "- Random number generation  \n",
    "- Conditional logic  \n",
    "- Loops and attempts tracking  \n"
   ]
  },
  {
   "cell_type": "code",
   "execution_count": null,
   "id": "8cdc09a4-839f-4e2b-829e-5df569d33683",
   "metadata": {},
   "outputs": [],
   "source": []
  },
  {
   "cell_type": "code",
   "execution_count": 1,
   "id": "1de0d50a-1e68-4d6f-8a91-4510150a3a84",
   "metadata": {},
   "outputs": [],
   "source": [
    "import random\n",
    "\n",
    "def guess_the_number(low=1, high=10, attempts=3):\n",
    "    print(\"\\n====== Guess The Number Game =====\")\n",
    "    print(f\"\\nI'm thinking of a number between {low} and {high}.\")\n",
    "    print(f\"\\nYou have {attempts} attempts to guess it.\\n\")\n",
    "\n",
    "    secret_number = random.randint(low, high)\n",
    "\n",
    "    for attempt in range(1, attempts + 1):\n",
    "        while True:\n",
    "            try:\n",
    "                guess = int(input(f\"Attempt {attempt} - Enter your guess: \"))\n",
    "                break\n",
    "            except ValueError:\n",
    "                print(\"Invalid input. Please enter a number.\")\n",
    "\n",
    "        if guess == secret_number:\n",
    "            print(f\"\\n🎉 Congratulations! You guessed right in {attempt} attempts!\")\n",
    "            return\n",
    "        elif guess > secret_number:\n",
    "            print(\"Too high! Try a lower number.\")\n",
    "        else:\n",
    "            print(\"Too low! Try a higher number.\")\n",
    "\n",
    "        print(f\"Attempts left: {attempts - attempt}\\n\")\n",
    "\n",
    "    print(\"\\n❌ Game Over!\")\n",
    "    print(f\"The secret number was: {secret_number}\")\n",
    "    print(\"Better luck next time!\\n\")\n",
    "\n",
    "\n"
   ]
  },
  {
   "cell_type": "code",
   "execution_count": 2,
   "id": "47a6bb17-bb18-4a0d-96cc-f73140ecc7ac",
   "metadata": {},
   "outputs": [
    {
     "name": "stdout",
     "output_type": "stream",
     "text": [
      "\n",
      "====== Guess The Number Game =====\n",
      "\n",
      "I'm thinking of a number between 1 and 10.\n",
      "\n",
      "You have 3 attempts to guess it.\n",
      "\n"
     ]
    },
    {
     "name": "stdin",
     "output_type": "stream",
     "text": [
      "Attempt 1 - Enter your guess:  7\n"
     ]
    },
    {
     "name": "stdout",
     "output_type": "stream",
     "text": [
      "Too high! Try a lower number.\n",
      "Attempts left: 2\n",
      "\n"
     ]
    },
    {
     "name": "stdin",
     "output_type": "stream",
     "text": [
      "Attempt 2 - Enter your guess:  5\n"
     ]
    },
    {
     "name": "stdout",
     "output_type": "stream",
     "text": [
      "Too high! Try a lower number.\n",
      "Attempts left: 1\n",
      "\n"
     ]
    },
    {
     "name": "stdin",
     "output_type": "stream",
     "text": [
      "Attempt 3 - Enter your guess:  2\n"
     ]
    },
    {
     "name": "stdout",
     "output_type": "stream",
     "text": [
      "Too low! Try a higher number.\n",
      "Attempts left: 0\n",
      "\n",
      "\n",
      "❌ Game Over!\n",
      "The secret number was: 4\n",
      "Better luck next time!\n",
      "\n"
     ]
    }
   ],
   "source": [
    "# Run game\n",
    "guess_the_number()"
   ]
  },
  {
   "cell_type": "code",
   "execution_count": null,
   "id": "1b177623-3500-4fb9-bc79-2acad652bb53",
   "metadata": {},
   "outputs": [],
   "source": []
  },
  {
   "cell_type": "markdown",
   "id": "67822d76-c4b8-4e7b-96a2-e7b7a5767790",
   "metadata": {},
   "source": [
    "## Multiplayer Guess the Number 🎮\n",
    "\n",
    "This is a pass-and-play Python game where multiple players compete to guess the same secret number.  \n",
    "Each round, players take turns making guesses until someone gets it right or everyone runs out of attempts.\n",
    "\n",
    "- The computer secretly picks a number within a chosen range.  \n",
    "- Players take turns guessing.  \n",
    "- The game gives hints if a guess is **too high** or **too low**, and sometimes if it’s **close**.  \n",
    "- The first player to guess correctly wins the round and earns a point.  \n",
    "- After all rounds are played, the leaderboard is displayed and the player with the most points wins.  \n",
    "\n",
    "This version introduces:\n",
    "- **Multiple players with scores and leaderboard tracking**  \n",
    "- **Fair turn rotation across players**  \n",
    "- **Configurable rounds, range, and attempts per player**  \n",
    "- **Hints for “close” guesses**  \n",
    "\n",
    "It’s a fun way to extend the classic single-player game into a competitive experience for friends or classmates.\n"
   ]
  },
  {
   "cell_type": "code",
   "execution_count": 3,
   "id": "44a61f2f-5f3d-45f0-a1ff-e98814859257",
   "metadata": {},
   "outputs": [],
   "source": [
    "import random\n",
    "import math\n",
    "\n",
    "def get_int(prompt, min_val=None, max_val=None):\n",
    "    \"\"\"Safe integer input with optional bounds.\"\"\"\n",
    "    while True:\n",
    "        s = input(prompt).strip()\n",
    "        if s.lstrip(\"-\").isdigit():\n",
    "            n = int(s)\n",
    "            if (min_val is None or n >= min_val) and (max_val is None or n <= max_val):\n",
    "                return n\n",
    "        print(f\"Please enter a valid integer\"\n",
    "              f\"{' ≥ ' + str(min_val) if min_val is not None else ''}\"\n",
    "              f\"{' and ≤ ' + str(max_val) if max_val is not None else ''}.\")\n",
    "\n",
    "def setup_players():\n",
    "    \"\"\"Collect unique, non-empty player names.\"\"\"\n",
    "    while True:\n",
    "        try:\n",
    "            count = get_int(\"How many players? (2–8): \", 2, 8)\n",
    "            break\n",
    "        except Exception:\n",
    "            pass\n",
    "    players = []\n",
    "    for i in range(1, count + 1):\n",
    "        while True:\n",
    "            name = input(f\"Player {i} name: \").strip()\n",
    "            if name and name not in players:\n",
    "                players.append(name)\n",
    "                break\n",
    "            print(\"Name must be non-empty and unique.\")\n",
    "    return players\n",
    "\n",
    "def play_round(players, low, high, attempts_per_player, round_num):\n",
    "    \"\"\"Plays one round. Returns (winner_name or None, guess_log).\"\"\"\n",
    "    secret = random.randint(low, high)\n",
    "    guess_log = []  # (player, guess, relation)\n",
    "\n",
    "    print(f\"\\n— Round {round_num} —\")\n",
    "    print(f\"I'm thinking of a number between {low} and {high}.\")\n",
    "    total_turns = attempts_per_player * len(players)\n",
    "\n",
    "    for turn in range(1, total_turns + 1):\n",
    "        player = players[(turn - 1) % len(players)]\n",
    "        guess = get_int(f\"[{player}] Guess {turn}/{total_turns}: \", low, high)\n",
    "\n",
    "        if guess == secret:\n",
    "            print(f\"✅ {player} guessed it! The number was {secret}.\")\n",
    "            guess_log.append((player, guess, \"correct\"))\n",
    "            return player, guess_log\n",
    "        elif guess < secret:\n",
    "            print(\"Too low.\")\n",
    "            guess_log.append((player, guess, \"low\"))\n",
    "        else:\n",
    "            print(\"Too high.\")\n",
    "            guess_log.append((player, guess, \"high\"))\n",
    "\n",
    "        # Optional “hot/cold” hint\n",
    "        span = max(1, (high - low) // 10)\n",
    "        if abs(guess - secret) <= span:\n",
    "            print(\"Close!\")\n",
    "\n",
    "    print(f\"❌ No one got it. The number was {secret}.\")\n",
    "    return None, guess_log\n",
    "\n",
    "def print_leaderboard(scores):\n",
    "    print(\"\\n=== Leaderboard ===\")\n",
    "    # Sort by score desc, then name asc\n",
    "    for name, pts in sorted(scores.items(), key=lambda x: (-x[1], x[0])):\n",
    "        print(f\"{name}: {pts}\")\n",
    "\n",
    "def multiplayer_guess_the_number():\n",
    "    print(\"\\n====== Guess The Number — Multiplayer ======\\n\")\n",
    "\n",
    "    players = setup_players()\n",
    "    print()\n",
    "    low = get_int(\"Lower bound (e.g., 1): \")\n",
    "    high = get_int(\"Upper bound (e.g., 100): \", min_val=low + 1)\n",
    "    rounds = get_int(\"How many rounds? (e.g., 3): \", 1, 50)\n",
    "\n",
    "    # Smart default attempts per player ~ log2(range)+1 (rounded up)\n",
    "    default_attempts = math.ceil(math.log2(high - low + 1)) + 1\n",
    "    attempts_per_player = get_int(\n",
    "        f\"Attempts per player per round (default {default_attempts}): \",\n",
    "        1, 20\n",
    "    )\n",
    "    # If user typed the default explicitly, keep; otherwise, they chose a number.\n",
    "\n",
    "    scores = {p: 0 for p in players}\n",
    "\n",
    "    for r in range(1, rounds + 1):\n",
    "        winner, _ = play_round(players, low, high, attempts_per_player, r)\n",
    "        if winner:\n",
    "            scores[winner] += 1\n",
    "        print_leaderboard(scores)\n",
    "\n",
    "    # Final results\n",
    "    max_pts = max(scores.values())\n",
    "    champs = [p for p, s in scores.items() if s == max_pts]\n",
    "\n",
    "    print(\"\\n=== Final Result ===\")\n",
    "    print_leaderboard(scores)\n",
    "    if len(champs) == 1:\n",
    "        print(f\"\\n🏆 Winner: {champs[0]} with {max_pts} point(s)!\")\n",
    "    else:\n",
    "        print(f\"\\n🤝 It's a tie between: {', '.join(champs)} with {max_pts} point(s)!\")\n",
    "\n",
    "\n"
   ]
  },
  {
   "cell_type": "code",
   "execution_count": 4,
   "id": "1259daa2-42c4-47d6-9ec0-0cdebff2e1b5",
   "metadata": {},
   "outputs": [
    {
     "name": "stdout",
     "output_type": "stream",
     "text": [
      "\n",
      "====== Guess The Number — Multiplayer ======\n",
      "\n"
     ]
    },
    {
     "name": "stdin",
     "output_type": "stream",
     "text": [
      "How many players? (2–8):  3\n",
      "Player 1 name:  Williams\n",
      "Player 2 name:  Amaka\n",
      "Player 3 name:  Fiona\n"
     ]
    },
    {
     "name": "stdout",
     "output_type": "stream",
     "text": [
      "\n"
     ]
    },
    {
     "name": "stdin",
     "output_type": "stream",
     "text": [
      "Lower bound (e.g., 1):  1\n",
      "Upper bound (e.g., 100):  20\n",
      "How many rounds? (e.g., 3):  2\n",
      "Attempts per player per round (default 6):  3\n"
     ]
    },
    {
     "name": "stdout",
     "output_type": "stream",
     "text": [
      "\n",
      "— Round 1 —\n",
      "I'm thinking of a number between 1 and 20.\n"
     ]
    },
    {
     "name": "stdin",
     "output_type": "stream",
     "text": [
      "[Williams] Guess 1/9:  5\n"
     ]
    },
    {
     "name": "stdout",
     "output_type": "stream",
     "text": [
      "Too low.\n"
     ]
    },
    {
     "name": "stdin",
     "output_type": "stream",
     "text": [
      "[Amaka] Guess 2/9:  3\n"
     ]
    },
    {
     "name": "stdout",
     "output_type": "stream",
     "text": [
      "Too low.\n"
     ]
    },
    {
     "name": "stdin",
     "output_type": "stream",
     "text": [
      "[Fiona] Guess 3/9:  3\n"
     ]
    },
    {
     "name": "stdout",
     "output_type": "stream",
     "text": [
      "Too low.\n"
     ]
    },
    {
     "name": "stdin",
     "output_type": "stream",
     "text": [
      "[Williams] Guess 4/9:  8\n"
     ]
    },
    {
     "name": "stdout",
     "output_type": "stream",
     "text": [
      "Too low.\n"
     ]
    },
    {
     "name": "stdin",
     "output_type": "stream",
     "text": [
      "[Amaka] Guess 5/9:  1\n"
     ]
    },
    {
     "name": "stdout",
     "output_type": "stream",
     "text": [
      "Too low.\n"
     ]
    },
    {
     "name": "stdin",
     "output_type": "stream",
     "text": [
      "[Fiona] Guess 6/9:  4\n"
     ]
    },
    {
     "name": "stdout",
     "output_type": "stream",
     "text": [
      "Too low.\n"
     ]
    },
    {
     "name": "stdin",
     "output_type": "stream",
     "text": [
      "[Williams] Guess 7/9:  9\n"
     ]
    },
    {
     "name": "stdout",
     "output_type": "stream",
     "text": [
      "Too low.\n"
     ]
    },
    {
     "name": "stdin",
     "output_type": "stream",
     "text": [
      "[Amaka] Guess 8/9:  2\n"
     ]
    },
    {
     "name": "stdout",
     "output_type": "stream",
     "text": [
      "Too low.\n"
     ]
    },
    {
     "name": "stdin",
     "output_type": "stream",
     "text": [
      "[Fiona] Guess 9/9:  12\n"
     ]
    },
    {
     "name": "stdout",
     "output_type": "stream",
     "text": [
      "Too low.\n",
      "❌ No one got it. The number was 15.\n",
      "\n",
      "=== Leaderboard ===\n",
      "Amaka: 0\n",
      "Fiona: 0\n",
      "Williams: 0\n",
      "\n",
      "— Round 2 —\n",
      "I'm thinking of a number between 1 and 20.\n"
     ]
    },
    {
     "name": "stdin",
     "output_type": "stream",
     "text": [
      "[Williams] Guess 1/9:  15\n"
     ]
    },
    {
     "name": "stdout",
     "output_type": "stream",
     "text": [
      "Too high.\n"
     ]
    },
    {
     "name": "stdin",
     "output_type": "stream",
     "text": [
      "[Amaka] Guess 2/9:  10\n"
     ]
    },
    {
     "name": "stdout",
     "output_type": "stream",
     "text": [
      "Too high.\n"
     ]
    },
    {
     "name": "stdin",
     "output_type": "stream",
     "text": [
      "[Fiona] Guess 3/9:  14\n"
     ]
    },
    {
     "name": "stdout",
     "output_type": "stream",
     "text": [
      "Too high.\n"
     ]
    },
    {
     "name": "stdin",
     "output_type": "stream",
     "text": [
      "[Williams] Guess 4/9:  9\n"
     ]
    },
    {
     "name": "stdout",
     "output_type": "stream",
     "text": [
      "Too high.\n"
     ]
    },
    {
     "name": "stdin",
     "output_type": "stream",
     "text": [
      "[Amaka] Guess 5/9:  5\n"
     ]
    },
    {
     "name": "stdout",
     "output_type": "stream",
     "text": [
      "Too high.\n"
     ]
    },
    {
     "name": "stdin",
     "output_type": "stream",
     "text": [
      "[Fiona] Guess 6/9:  4\n"
     ]
    },
    {
     "name": "stdout",
     "output_type": "stream",
     "text": [
      "Too high.\n"
     ]
    },
    {
     "name": "stdin",
     "output_type": "stream",
     "text": [
      "[Williams] Guess 7/9:  3\n"
     ]
    },
    {
     "name": "stdout",
     "output_type": "stream",
     "text": [
      "Too high.\n"
     ]
    },
    {
     "name": "stdin",
     "output_type": "stream",
     "text": [
      "[Amaka] Guess 8/9:  1\n"
     ]
    },
    {
     "name": "stdout",
     "output_type": "stream",
     "text": [
      "✅ Amaka guessed it! The number was 1.\n",
      "\n",
      "=== Leaderboard ===\n",
      "Amaka: 1\n",
      "Fiona: 0\n",
      "Williams: 0\n",
      "\n",
      "=== Final Result ===\n",
      "\n",
      "=== Leaderboard ===\n",
      "Amaka: 1\n",
      "Fiona: 0\n",
      "Williams: 0\n",
      "\n",
      "🏆 Winner: Amaka with 1 point(s)!\n"
     ]
    }
   ],
   "source": [
    "# Run game\n",
    "multiplayer_guess_the_number()"
   ]
  },
  {
   "cell_type": "code",
   "execution_count": null,
   "id": "67ca625d-2db2-4d3a-a008-566c964c9f5b",
   "metadata": {},
   "outputs": [],
   "source": []
  }
 ],
 "metadata": {
  "kernelspec": {
   "display_name": "Python [conda env:base] *",
   "language": "python",
   "name": "conda-base-py"
  },
  "language_info": {
   "codemirror_mode": {
    "name": "ipython",
    "version": 3
   },
   "file_extension": ".py",
   "mimetype": "text/x-python",
   "name": "python",
   "nbconvert_exporter": "python",
   "pygments_lexer": "ipython3",
   "version": "3.12.7"
  }
 },
 "nbformat": 4,
 "nbformat_minor": 5
}
